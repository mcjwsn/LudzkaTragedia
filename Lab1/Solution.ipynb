{
 "cells": [
  {
   "cell_type": "markdown",
   "id": "3a656f05",
   "metadata": {},
   "source": [
    "# Opracowanie rekurencyjnych algorytmów dla macierzy gęstych o złożoności nie większej niż O(N^3)"
   ]
  },
  {
   "cell_type": "markdown",
   "id": "4be4f3e9",
   "metadata": {},
   "source": [
    "## Treść polecenia"
   ]
  },
  {
   "cell_type": "markdown",
   "id": "10ac17d9",
   "metadata": {},
   "source": [
    "Proszę wybrać ulubiony język programowania, wygenerować macierze losowe o wartościach z przedziału otwartego (0.00000001, 1.0) i zaimplementować:\n",
    "\n",
    "- Rekurencyjne mnożenie macierzy metodą Binét’a (10 punktów)\n",
    "- Rekurencyjne mnożenie macierzy metodą Strassena (10 punktów)\n",
    "- Mnożenie macierzy metodą AI na podstawie artykułu w Nature (10 punktów)\n",
    "\n",
    "Proszę zliczać liczbę operacji zmienno-przecinkowych (+-*/_liczb_) wykonywanych podczas mnożenia macierzy. \\\n",
    "Uwaga Wszystkie algorytmy projektowane i badane są dla macierzy o dowolnym rozmiarze, o takiej samej liczbie wierszy i kolumn (nie dotyczy macierzy mnożonych metodami AI)\n"
   ]
  },
  {
   "cell_type": "markdown",
   "id": "26ca713d",
   "metadata": {},
   "source": [
    "#### Biblioteki"
   ]
  },
  {
   "cell_type": "code",
   "execution_count": 27,
   "id": "596d6c15",
   "metadata": {},
   "outputs": [],
   "source": [
    "import numpy as np\n",
    "import random"
   ]
  },
  {
   "cell_type": "markdown",
   "id": "2cd7f36e",
   "metadata": {},
   "source": [
    "#### Generowanie losowych macierzy o wartościach z przedziału (0.00000001, 1.0)"
   ]
  },
  {
   "cell_type": "code",
   "execution_count": 28,
   "id": "ce5361c0",
   "metadata": {},
   "outputs": [],
   "source": [
    "# n - rozmiar macierzy\n",
    "def generate_matrix(n):\n",
    "    eps = np.finfo(float).eps\n",
    "    return [[random.uniform(10**(-8)+eps, 1.0-eps) for _ in range(n)] for _ in range(n)]"
   ]
  },
  {
   "cell_type": "markdown",
   "id": "a297ec74",
   "metadata": {},
   "source": [
    "#### Rekurencyjne mnożenie macierzy metodą Binét’a"
   ]
  },
  {
   "cell_type": "code",
   "execution_count": null,
   "id": "1255b81d",
   "metadata": {},
   "outputs": [],
   "source": [
    "def pure_recursive_multiply(A, B):\n",
    "\n",
    "    rows_a, cols_a = A.shape\n",
    "    rows_b, cols_b = B.shape\n",
    "\n",
    "    if cols_a != rows_b:\n",
    "        raise ValueError(\n",
    "            f\"Wymiary wewnętrzne macierzy nie są zgodne: \"\n",
    "            f\"liczba kolumn A ({cols_a}) musi być równa liczbie wierszy B ({rows_b}).\"\n",
    "        )\n",
    "    \n",
    "    common_dim = cols_a\n",
    "\n",
    "    if rows_a == 0 or common_dim == 0 or cols_b == 0:\n",
    "        return np.zeros((rows_a, cols_b))\n",
    "\n",
    "\n",
    "    if rows_a == 1 and common_dim == 1 and cols_b == 1:\n",
    "        return np.array([[A[0, 0] * B[0, 0]]])\n",
    "\n",
    "    mid_rows_a = rows_a // 2\n",
    "    mid_common_dim = common_dim // 2\n",
    "    mid_cols_b = cols_b // 2\n",
    "\n",
    "    A11 = A[:mid_rows_a, :mid_common_dim]\n",
    "    A12 = A[:mid_rows_a, mid_common_dim:]\n",
    "    A21 = A[mid_rows_a:, :mid_common_dim]\n",
    "    A22 = A[mid_rows_a:, mid_common_dim:]\n",
    "    \n",
    "    B11 = B[:mid_common_dim, :mid_cols_b]\n",
    "    B12 = B[:mid_common_dim, mid_cols_b:]\n",
    "    B21 = B[mid_common_dim:, :mid_cols_b]\n",
    "    B22 = B[mid_common_dim:, mid_cols_b:]\n",
    "\n",
    "    C11 = pure_recursive_multiply(A11, B11) + pure_recursive_multiply(A12, B21)\n",
    "    C12 = pure_recursive_multiply(A11, B12) + pure_recursive_multiply(A12, B22)\n",
    "    C21 = pure_recursive_multiply(A21, B11) + pure_recursive_multiply(A22, B21)\n",
    "    C22 = pure_recursive_multiply(A21, B12) + pure_recursive_multiply(A22, B22)\n",
    "\n",
    "    top_row = np.hstack((C11, C12))\n",
    "    bottom_row = np.hstack((C21, C22))\n",
    "    \n",
    "    C = np.vstack((top_row, bottom_row))\n",
    "    \n",
    "    return C"
   ]
  },
  {
   "cell_type": "markdown",
   "id": "cf72fb43",
   "metadata": {},
   "source": [
    "#### Rekurencyjne mnożenie macierzy metodą Strassena"
   ]
  }
 ],
 "metadata": {
  "kernelspec": {
   "display_name": ".venv",
   "language": "python",
   "name": "python3"
  },
  "language_info": {
   "codemirror_mode": {
    "name": "ipython",
    "version": 3
   },
   "file_extension": ".py",
   "mimetype": "text/x-python",
   "name": "python",
   "nbconvert_exporter": "python",
   "pygments_lexer": "ipython3",
   "version": "3.13.1"
  }
 },
 "nbformat": 4,
 "nbformat_minor": 5
}
